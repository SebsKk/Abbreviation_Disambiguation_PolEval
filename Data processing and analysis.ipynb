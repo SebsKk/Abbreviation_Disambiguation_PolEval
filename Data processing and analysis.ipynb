{
 "cells": [
  {
   "cell_type": "code",
   "execution_count": 2,
   "metadata": {},
   "outputs": [
    {
     "name": "stderr",
     "output_type": "stream",
     "text": [
      "c:\\Users\\kaczm\\.virtualenvs\\Abbreviation_disambiguation-DUSz1hHW\\lib\\site-packages\\tqdm\\auto.py:21: TqdmWarning: IProgress not found. Please update jupyter and ipywidgets. See https://ipywidgets.readthedocs.io/en/stable/user_install.html\n",
      "  from .autonotebook import tqdm as notebook_tqdm\n"
     ]
    }
   ],
   "source": [
    "import pandas as pd \n",
    "import transformers\n",
    "from transformers import T5Tokenizer"
   ]
  },
  {
   "cell_type": "code",
   "execution_count": 3,
   "metadata": {},
   "outputs": [],
   "source": [
    "# Let's load the data\n",
    "\n",
    "train_data_path = 'C:/Users/kaczm/OneDrive/Pulpit/Abbreviation_Disambiguation_PolEval/in_train_a.tsv'\n",
    "df1 = pd.read_csv(train_data_path, sep='\\t', header=None, names=['abbreviation', 'context'])\n",
    "\n",
    "train_data_path = 'C:/Users/kaczm/OneDrive/Pulpit/Abbreviation_Disambiguation_PolEval/expected_train_a.tsv'\n",
    "df2 = pd.read_csv(train_data_path, sep='\\t', header=None, names=['expanded_abbreviation', 'base_abbreviation'])"
   ]
  },
  {
   "cell_type": "code",
   "execution_count": 4,
   "metadata": {},
   "outputs": [],
   "source": [
    "# Let's merge the train file \n",
    "\n",
    "training_df = pd.merge(df1, df2, left_index=True, right_index=True)"
   ]
  },
  {
   "cell_type": "code",
   "execution_count": 5,
   "metadata": {},
   "outputs": [
    {
     "data": {
      "text/html": [
       "<div>\n",
       "<style scoped>\n",
       "    .dataframe tbody tr th:only-of-type {\n",
       "        vertical-align: middle;\n",
       "    }\n",
       "\n",
       "    .dataframe tbody tr th {\n",
       "        vertical-align: top;\n",
       "    }\n",
       "\n",
       "    .dataframe thead th {\n",
       "        text-align: right;\n",
       "    }\n",
       "</style>\n",
       "<table border=\"1\" class=\"dataframe\">\n",
       "  <thead>\n",
       "    <tr style=\"text-align: right;\">\n",
       "      <th></th>\n",
       "      <th>abbreviation</th>\n",
       "      <th>context</th>\n",
       "      <th>expanded_abbreviation</th>\n",
       "      <th>base_abbreviation</th>\n",
       "    </tr>\n",
       "  </thead>\n",
       "  <tbody>\n",
       "    <tr>\n",
       "      <th>0</th>\n",
       "      <td>l.</td>\n",
       "      <td>ciągników serii 1523 i 1221 otrzymały sześciocylindrowe silniki o pojemności 7,2 &lt;mask&gt; Także te modele nie były wysilone mocowo i osiągały 158 KM w przypadku Belarusa</td>\n",
       "      <td>litra</td>\n",
       "      <td>litr</td>\n",
       "    </tr>\n",
       "    <tr>\n",
       "      <th>1</th>\n",
       "      <td>s.</td>\n",
       "      <td>na zderzaku poprzedzającego auta w odległości zaledwie 1,235 s przy założonych 3 &lt;mask&gt; Przy okazji prawą ręką obsługiwał telefon.  Podobnie srebrny Ford S-Max – jego szofer</td>\n",
       "      <td>sekundach</td>\n",
       "      <td>sekunda</td>\n",
       "    </tr>\n",
       "    <tr>\n",
       "      <th>2</th>\n",
       "      <td>Sen.</td>\n",
       "      <td>Kambodża nie wypowiada się na temat wewnętrznych spraw innych państw - powiedział Hun &lt;mask&gt; Agencja Reutera przypomina, że rządzący Kambodżą od ponad 30 lat polityk sam w 1997</td>\n",
       "      <td>Sen.</td>\n",
       "      <td>Sen.</td>\n",
       "    </tr>\n",
       "    <tr>\n",
       "      <th>3</th>\n",
       "      <td>s.</td>\n",
       "      <td>grzechów.  Cykl rozpoczęliśmy rozmową z Jerzym Pilchem o pysze; o gniewie mówiła &lt;mask&gt; Małgorzata Chmielewska, o chciwości - Janusz Palikot, o nieumiarkowaniu - Bartłomiej</td>\n",
       "      <td>siostra</td>\n",
       "      <td>siostra</td>\n",
       "    </tr>\n",
       "    <tr>\n",
       "      <th>4</th>\n",
       "      <td>b.</td>\n",
       "      <td>ocenił w rozmowie z PAP poseł Michał Jach. Odniósł się w ten sposób do wypowiedzi &lt;mask&gt; szefa MON Tomasza Siemoniaka, który podczas środowej wizyty w Rzeszowie powiedział:</td>\n",
       "      <td>byłego</td>\n",
       "      <td>były</td>\n",
       "    </tr>\n",
       "    <tr>\n",
       "      <th>...</th>\n",
       "      <td>...</td>\n",
       "      <td>...</td>\n",
       "      <td>...</td>\n",
       "      <td>...</td>\n",
       "    </tr>\n",
       "    <tr>\n",
       "      <th>4276</th>\n",
       "      <td>s.</td>\n",
       "      <td>bywa męczący. Poniżej dalsza część artykułu  [i]Prószyński i S-ka, Warszawa 2010 &lt;mask&gt; 383[/i]  © Licencja na publikację © ℗ Wszystkie prawa zastrzeżone Źródło: Rzeczpospolita</td>\n",
       "      <td>roku</td>\n",
       "      <td>rok</td>\n",
       "    </tr>\n",
       "    <tr>\n",
       "      <th>4277</th>\n",
       "      <td>l.</td>\n",
       "      <td>Lewicy Demokratycznej - 12,5 proc. (l. głosów - 5 950),  Konfederacja - 7,76 proc (&lt;mask&gt; głosów - 3 694),  Polskie Stronnictwo Ludowe - 4,49 proc. (l. głosów - 2 137).  W</td>\n",
       "      <td>strony</td>\n",
       "      <td>strona</td>\n",
       "    </tr>\n",
       "    <tr>\n",
       "      <th>4278</th>\n",
       "      <td>bo.</td>\n",
       "      <td>www. wloclawek.pl na stronie dedykowanej włocławskiemu budżetowi obywatelskiemu: &lt;mask&gt; wloclawek.eu oraz na tablicy ogłoszeń w urzędzie miasta. Głosowanie przeprowadzone</td>\n",
       "      <td>i.</td>\n",
       "      <td>i.</td>\n",
       "    </tr>\n",
       "    <tr>\n",
       "      <th>4279</th>\n",
       "      <td>a.</td>\n",
       "      <td>przewodnictwem Prezydenta RP a we Francji nie  Zadanie 16. 16.1 funkcja kontrolna 16.2 &lt;mask&gt; politycznej b. premiera c. 231  Zadanie 17. 17. 1 A,E 17.2. C,D  Zadanie 18 a. Rada</td>\n",
       "      <td>zeszyt</td>\n",
       "      <td>zeszyt</td>\n",
       "    </tr>\n",
       "    <tr>\n",
       "      <th>4280</th>\n",
       "      <td>m.</td>\n",
       "      <td>o wysokości 90 m. Konstrukcja pozwala na prowadzenie prac na głębokości nawet 50 &lt;mask&gt; Na pokładzie znajduje się m.in. lądowisko dla helikoptera. Jednostka posiada system</td>\n",
       "      <td>doktora nauk medycznych</td>\n",
       "      <td>doktor nauki medyczne</td>\n",
       "    </tr>\n",
       "  </tbody>\n",
       "</table>\n",
       "<p>4281 rows × 4 columns</p>\n",
       "</div>"
      ],
      "text/plain": [
       "     abbreviation  \\\n",
       "0              l.   \n",
       "1              s.   \n",
       "2            Sen.   \n",
       "3              s.   \n",
       "4              b.   \n",
       "...           ...   \n",
       "4276           s.   \n",
       "4277           l.   \n",
       "4278          bo.   \n",
       "4279           a.   \n",
       "4280           m.   \n",
       "\n",
       "                                                                                                                                                                                context  \\\n",
       "0               ciągników serii 1523 i 1221 otrzymały sześciocylindrowe silniki o pojemności 7,2 <mask> Także te modele nie były wysilone mocowo i osiągały 158 KM w przypadku Belarusa   \n",
       "1         na zderzaku poprzedzającego auta w odległości zaledwie 1,235 s przy założonych 3 <mask> Przy okazji prawą ręką obsługiwał telefon.  Podobnie srebrny Ford S-Max – jego szofer   \n",
       "2      Kambodża nie wypowiada się na temat wewnętrznych spraw innych państw - powiedział Hun <mask> Agencja Reutera przypomina, że rządzący Kambodżą od ponad 30 lat polityk sam w 1997   \n",
       "3          grzechów.  Cykl rozpoczęliśmy rozmową z Jerzym Pilchem o pysze; o gniewie mówiła <mask> Małgorzata Chmielewska, o chciwości - Janusz Palikot, o nieumiarkowaniu - Bartłomiej   \n",
       "4          ocenił w rozmowie z PAP poseł Michał Jach. Odniósł się w ten sposób do wypowiedzi <mask> szefa MON Tomasza Siemoniaka, który podczas środowej wizyty w Rzeszowie powiedział:   \n",
       "...                                                                                                                                                                                 ...   \n",
       "4276   bywa męczący. Poniżej dalsza część artykułu  [i]Prószyński i S-ka, Warszawa 2010 <mask> 383[/i]  © Licencja na publikację © ℗ Wszystkie prawa zastrzeżone Źródło: Rzeczpospolita   \n",
       "4277        Lewicy Demokratycznej - 12,5 proc. (l. głosów - 5 950),  Konfederacja - 7,76 proc (<mask> głosów - 3 694),  Polskie Stronnictwo Ludowe - 4,49 proc. (l. głosów - 2 137).  W   \n",
       "4278         www. wloclawek.pl na stronie dedykowanej włocławskiemu budżetowi obywatelskiemu: <mask> wloclawek.eu oraz na tablicy ogłoszeń w urzędzie miasta. Głosowanie przeprowadzone   \n",
       "4279  przewodnictwem Prezydenta RP a we Francji nie  Zadanie 16. 16.1 funkcja kontrolna 16.2 <mask> politycznej b. premiera c. 231  Zadanie 17. 17. 1 A,E 17.2. C,D  Zadanie 18 a. Rada   \n",
       "4280        o wysokości 90 m. Konstrukcja pozwala na prowadzenie prac na głębokości nawet 50 <mask> Na pokładzie znajduje się m.in. lądowisko dla helikoptera. Jednostka posiada system   \n",
       "\n",
       "        expanded_abbreviation      base_abbreviation  \n",
       "0                       litra                   litr  \n",
       "1                   sekundach                sekunda  \n",
       "2                        Sen.                   Sen.  \n",
       "3                     siostra                siostra  \n",
       "4                      byłego                   były  \n",
       "...                       ...                    ...  \n",
       "4276                     roku                    rok  \n",
       "4277                   strony                 strona  \n",
       "4278                       i.                     i.  \n",
       "4279                   zeszyt                 zeszyt  \n",
       "4280  doktora nauk medycznych  doktor nauki medyczne  \n",
       "\n",
       "[4281 rows x 4 columns]"
      ]
     },
     "execution_count": 5,
     "metadata": {},
     "output_type": "execute_result"
    }
   ],
   "source": [
    "pd.set_option('display.max_colwidth', None)\n",
    "training_df"
   ]
  },
  {
   "cell_type": "code",
   "execution_count": 6,
   "metadata": {},
   "outputs": [
    {
     "name": "stderr",
     "output_type": "stream",
     "text": [
      "You are using the default legacy behaviour of the <class 'transformers.models.t5.tokenization_t5.T5Tokenizer'>. This is expected, and simply means that the `legacy` (previous) behavior will be used so nothing changes for you. If you want to use the new behaviour, set `legacy=False`. This should only be set if you understand what it means, and thouroughly read the reason why this was added as explained in https://github.com/huggingface/transformers/pull/24565\n"
     ]
    }
   ],
   "source": [
    "# Create tokenizer\n",
    "\n",
    "import sentencepiece\n",
    "from transformers import MT5Tokenizer\n",
    "\n",
    "tokenizer = MT5Tokenizer.from_pretrained('google/mt5-large')  \n"
   ]
  },
  {
   "cell_type": "code",
   "execution_count": 7,
   "metadata": {},
   "outputs": [],
   "source": [
    "# Tokenize data\n",
    "import torch\n",
    "\n",
    "def tokenize_data(context, expanded_abbreviation):\n",
    "    tokenized_input = tokenizer.encode(context, return_tensors='pt', max_length=512, truncation=True)\n",
    "    tokenized_target = tokenizer.encode(expanded_abbreviation, return_tensors='pt', max_length=512, truncation=True)\n",
    "    return tokenized_input, tokenized_target\n",
    "\n",
    "training_df['tokenized_input'], training_df['tokenized_target'] = zip(*training_df.apply(lambda x: tokenize_data(x['context'], x['expanded_abbreviation']), axis=1))\n"
   ]
  },
  {
   "cell_type": "code",
   "execution_count": 9,
   "metadata": {},
   "outputs": [],
   "source": [
    "# Save training df\n",
    "# training_df.to_csv('C:/Users/kaczm/OneDrive/Pulpit/Abbreviation_Disambiguation_PolEval/training_df.csv', index=False)"
   ]
  },
  {
   "cell_type": "code",
   "execution_count": null,
   "metadata": {},
   "outputs": [],
   "source": [
    "from transformers import MT5ForConditionalGeneration\n",
    "\n",
    "model = MT5ForConditionalGeneration.from_pretrained('google/mt5-large')\n",
    "# Define your training loop, loss function, optimizer, etc., for fine-tuning\n"
   ]
  }
 ],
 "metadata": {
  "kernelspec": {
   "display_name": "Abbreviation_disambiguation-DUSz1hHW",
   "language": "python",
   "name": "python3"
  },
  "language_info": {
   "codemirror_mode": {
    "name": "ipython",
    "version": 3
   },
   "file_extension": ".py",
   "mimetype": "text/x-python",
   "name": "python",
   "nbconvert_exporter": "python",
   "pygments_lexer": "ipython3",
   "version": "3.10.7"
  }
 },
 "nbformat": 4,
 "nbformat_minor": 2
}
